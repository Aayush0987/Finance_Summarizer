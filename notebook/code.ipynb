{
 "cells": [
  {
   "cell_type": "code",
   "execution_count": 2,
   "id": "b3d87037",
   "metadata": {},
   "outputs": [
    {
     "name": "stdout",
     "output_type": "stream",
     "text": [
      "LangChain is working!\n"
     ]
    }
   ],
   "source": [
    "from langchain.llms import OpenAI\n",
    "\n",
    "print(\"LangChain is working!\")"
   ]
  },
  {
   "cell_type": "code",
   "execution_count": 3,
   "id": "ab631fcb",
   "metadata": {},
   "outputs": [],
   "source": [
    "from langchain.document_loaders import TextLoader\n"
   ]
  },
  {
   "cell_type": "code",
   "execution_count": 13,
   "id": "86219d79",
   "metadata": {},
   "outputs": [],
   "source": [
    "##loader = TextLoader(\"nvda_news_1.txt\")\n",
    "##loader.load()"
   ]
  },
  {
   "cell_type": "code",
   "execution_count": 14,
   "id": "0a0803f3",
   "metadata": {},
   "outputs": [],
   "source": [
    "##type(loader)"
   ]
  },
  {
   "cell_type": "code",
   "execution_count": 15,
   "id": "e4e22062",
   "metadata": {},
   "outputs": [],
   "source": [
    "from langchain.document_loaders.csv_loader import CSVLoader\n",
    "##loader = CSVLoader(\"movies.csv\", source_column=\"title\")\n",
    "##data= loader. load()\n",
    "##len (data)"
   ]
  },
  {
   "cell_type": "code",
   "execution_count": 8,
   "id": "e505707d",
   "metadata": {},
   "outputs": [
    {
     "name": "stderr",
     "output_type": "stream",
     "text": [
      "621.85s - pydevd: Sending message related to process being replaced timed-out after 5 seconds\n"
     ]
    },
    {
     "name": "stdout",
     "output_type": "stream",
     "text": [
      "Collecting unstructured\n",
      "  Downloading unstructured-0.18.13-py3-none-any.whl.metadata (24 kB)\n",
      "Collecting libmagic\n",
      "  Downloading libmagic-1.0.tar.gz (3.7 kB)\n",
      "  Installing build dependencies ... \u001b[?25ldone\n",
      "\u001b[?25h  Getting requirements to build wheel ... \u001b[?25ldone\n",
      "\u001b[?25h  Preparing metadata (pyproject.toml) ... \u001b[?25ldone\n",
      "\u001b[?25hCollecting python-magic\n",
      "  Using cached python_magic-0.4.27-py2.py3-none-any.whl.metadata (5.8 kB)\n",
      "\u001b[31mERROR: Ignored the following versions that require a different python version: 0.12.0 Requires-Python >=3.9.0,<3.12; 0.12.2 Requires-Python >=3.9.0,<3.12; 0.12.3 Requires-Python >=3.9.0,<3.12; 0.12.4 Requires-Python >=3.9.0,<3.12; 0.12.5 Requires-Python >=3.9.0,<3.12; 0.12.6 Requires-Python >=3.9.0,<3.12; 0.13.0 Requires-Python >=3.9.0,<3.12; 0.13.1 Requires-Python >=3.9.0,<3.12; 0.13.2 Requires-Python >=3.9.0,<3.12; 0.13.3 Requires-Python >=3.9.0,<3.12; 0.13.4 Requires-Python >=3.9.0,<3.12; 0.13.5 Requires-Python >=3.9.0,<3.12; 0.13.6 Requires-Python >=3.9.0,<3.12; 0.13.7 Requires-Python >=3.9.0,<3.12; 0.14.0 Requires-Python >=3.9.0,<3.12; 0.14.10 Requires-Python >=3.9.0,<3.13; 0.14.2 Requires-Python >=3.9.0,<3.13; 0.14.2.dev1 Requires-Python >=3.9.0,<3.13; 0.14.3 Requires-Python >=3.9.0,<3.13; 0.14.4 Requires-Python >=3.9.0,<3.13; 0.14.5 Requires-Python >=3.9.0,<3.13; 0.14.6 Requires-Python >=3.9.0,<3.13; 0.14.7 Requires-Python >=3.9.0,<3.13; 0.14.8 Requires-Python >=3.9.0,<3.13; 0.14.9 Requires-Python >=3.9.0,<3.13; 0.15.0 Requires-Python >=3.9.0,<3.13; 0.15.1 Requires-Python >=3.9.0,<3.13; 0.15.10 Requires-Python >=3.9.0,<3.13; 0.15.12 Requires-Python >=3.9.0,<3.13; 0.15.13 Requires-Python >=3.9.0,<3.13; 0.15.14 Requires-Python >=3.9.0,<3.13; 0.15.3 Requires-Python >=3.9.0,<3.13; 0.15.5 Requires-Python >=3.9.0,<3.13; 0.15.6 Requires-Python >=3.9.0,<3.13; 0.15.7 Requires-Python >=3.9.0,<3.13; 0.15.8 Requires-Python >=3.9.0,<3.13; 0.15.9 Requires-Python >=3.9.0,<3.13; 0.16.0 Requires-Python >=3.9.0,<3.13; 0.16.1 Requires-Python >=3.9.0,<3.13; 0.16.10 Requires-Python >=3.9.0,<3.13; 0.16.11 Requires-Python >=3.9.0,<3.13; 0.16.12 Requires-Python >=3.9.0,<3.13; 0.16.13 Requires-Python >=3.9.0,<3.13; 0.16.14 Requires-Python >=3.9.0,<3.13; 0.16.15 Requires-Python >=3.9.0,<3.13; 0.16.16 Requires-Python >=3.9.0,<3.13; 0.16.17 Requires-Python >=3.9.0,<3.13; 0.16.2 Requires-Python >=3.9.0,<3.13; 0.16.3 Requires-Python >=3.9.0,<3.13; 0.16.4 Requires-Python >=3.9.0,<3.13; 0.16.5 Requires-Python >=3.9.0,<3.13; 0.16.6 Requires-Python >=3.9.0,<3.13; 0.16.7 Requires-Python >=3.9.0,<3.13; 0.16.8 Requires-Python >=3.9.0,<3.13; 0.16.9 Requires-Python >=3.9.0,<3.13\u001b[0m\u001b[31m\n",
      "\u001b[0m\u001b[31mERROR: Could not find a version that satisfies the requirement python-magic-bin (from versions: none)\u001b[0m\u001b[31m\n",
      "\u001b[0m\u001b[31mERROR: No matching distribution found for python-magic-bin\u001b[0m\u001b[31m\n",
      "\u001b[0m"
     ]
    }
   ],
   "source": [
    "!pip3 install unstructured libmagic python-magic python-magic-bin"
   ]
  },
  {
   "cell_type": "code",
   "execution_count": 9,
   "id": "3c52360b",
   "metadata": {},
   "outputs": [],
   "source": [
    "from langchain.document_loaders import UnstructuredURLLoader"
   ]
  },
  {
   "cell_type": "code",
   "execution_count": 18,
   "id": "c8504bc5",
   "metadata": {},
   "outputs": [],
   "source": [
    "loader = UnstructuredURLLoader(urls=[\n",
    "    \"https://www.moneycontrol.com/news/business/markets/idbi-bank-divestment-due-diligence-by-qualified-bidders-nearly-complete-says-dipam-secy-share-soars-8-percent-13476011.html\",\n",
    "    \"https://www.moneycontrol.com/news/opinion/be-ready-before-gst-2-0-key-challenges-indian-businesses-must-navigate-13475776.html\"\n",
    "])"
   ]
  },
  {
   "cell_type": "code",
   "execution_count": 19,
   "id": "eb656573",
   "metadata": {},
   "outputs": [
    {
     "data": {
      "text/plain": [
       "2"
      ]
     },
     "execution_count": 19,
     "metadata": {},
     "output_type": "execute_result"
    }
   ],
   "source": [
    "data = loader.load()\n",
    "len(data)"
   ]
  },
  {
   "cell_type": "code",
   "execution_count": 21,
   "id": "8c867a23",
   "metadata": {},
   "outputs": [
    {
     "data": {
      "text/plain": [
       "{'source': 'https://www.moneycontrol.com/news/business/markets/idbi-bank-divestment-due-diligence-by-qualified-bidders-nearly-complete-says-dipam-secy-share-soars-8-percent-13476011.html'}"
      ]
     },
     "execution_count": 21,
     "metadata": {},
     "output_type": "execute_result"
    }
   ],
   "source": [
    "data[0].metadata\n"
   ]
  },
  {
   "cell_type": "code",
   "execution_count": 25,
   "id": "6e217409",
   "metadata": {},
   "outputs": [],
   "source": [
    "text = data[0].page_content"
   ]
  },
  {
   "cell_type": "code",
   "execution_count": null,
   "id": "3fcf2a40",
   "metadata": {},
   "outputs": [
    {
     "name": "stderr",
     "output_type": "stream",
     "text": [
      "Created a chunk of size 282, which is longer than the specified 200\n",
      "Created a chunk of size 471, which is longer than the specified 200\n",
      "Created a chunk of size 279, which is longer than the specified 200\n",
      "Created a chunk of size 268, which is longer than the specified 200\n",
      "Created a chunk of size 212, which is longer than the specified 200\n",
      "Created a chunk of size 250, which is longer than the specified 200\n"
     ]
    },
    {
     "data": {
      "text/plain": [
       "44"
      ]
     },
     "execution_count": 26,
     "metadata": {},
     "output_type": "execute_result"
    }
   ],
   "source": [
    "from langchain.text_splitter import CharacterTextSplitter\n",
    "splitter = CharacterTextSplitter(\n",
    "    separator=\"\\n\",\n",
    "    chunk_size=200,\n",
    "    chunk_overlap=0\n",
    ")\n",
    "chunks = splitter.split_text(text)\n",
    "len (chunks)"
   ]
  },
  {
   "cell_type": "code",
   "execution_count": 30,
   "id": "c4678ef3",
   "metadata": {},
   "outputs": [
    {
     "data": {
      "text/plain": [
       "52"
      ]
     },
     "execution_count": 30,
     "metadata": {},
     "output_type": "execute_result"
    }
   ],
   "source": [
    "from langchain.text_splitter import RecursiveCharacterTextSplitter\n",
    "r_splitter = RecursiveCharacterTextSplitter(\n",
    "    separators=[\"\\n\\n\", \"\\n\", \" \", \"\"],\n",
    "    chunk_size=200,\n",
    "    chunk_overlap=0\n",
    ")\n",
    "chunks = r_splitter.split_text(text)\n",
    "len (chunks)"
   ]
  },
  {
   "cell_type": "code",
   "execution_count": 31,
   "id": "f1dadea9",
   "metadata": {},
   "outputs": [
    {
     "name": "stdout",
     "output_type": "stream",
     "text": [
      "190\n",
      "-----\n",
      "195\n",
      "-----\n",
      "196\n",
      "-----\n",
      "69\n",
      "-----\n",
      "154\n",
      "-----\n",
      "92\n",
      "-----\n",
      "114\n",
      "-----\n",
      "183\n",
      "-----\n",
      "27\n",
      "-----\n",
      "195\n",
      "-----\n",
      "195\n",
      "-----\n",
      "90\n",
      "-----\n",
      "197\n",
      "-----\n",
      "84\n",
      "-----\n",
      "192\n",
      "-----\n",
      "197\n",
      "-----\n",
      "80\n",
      "-----\n",
      "46\n",
      "-----\n",
      "197\n",
      "-----\n",
      "81\n",
      "-----\n",
      "198\n",
      "-----\n",
      "69\n",
      "-----\n",
      "195\n",
      "-----\n",
      "125\n",
      "-----\n",
      "193\n",
      "-----\n",
      "158\n",
      "-----\n",
      "68\n",
      "-----\n",
      "158\n",
      "-----\n",
      "172\n",
      "-----\n",
      "198\n",
      "-----\n",
      "13\n",
      "-----\n",
      "123\n",
      "-----\n",
      "196\n",
      "-----\n",
      "163\n",
      "-----\n",
      "115\n",
      "-----\n",
      "100\n",
      "-----\n",
      "185\n",
      "-----\n",
      "94\n",
      "-----\n",
      "184\n",
      "-----\n",
      "186\n",
      "-----\n",
      "181\n",
      "-----\n",
      "83\n",
      "-----\n",
      "168\n",
      "-----\n",
      "191\n",
      "-----\n",
      "193\n",
      "-----\n",
      "171\n",
      "-----\n",
      "74\n",
      "-----\n",
      "182\n",
      "-----\n",
      "196\n",
      "-----\n",
      "53\n",
      "-----\n",
      "198\n",
      "-----\n",
      "98\n",
      "-----\n"
     ]
    }
   ],
   "source": [
    "for chunk in chunks:\n",
    "    print(len(chunk))\n",
    "    print(\"-----\")"
   ]
  }
 ],
 "metadata": {
  "kernelspec": {
   "display_name": "venv",
   "language": "python",
   "name": "python3"
  },
  "language_info": {
   "codemirror_mode": {
    "name": "ipython",
    "version": 3
   },
   "file_extension": ".py",
   "mimetype": "text/x-python",
   "name": "python",
   "nbconvert_exporter": "python",
   "pygments_lexer": "ipython3",
   "version": "3.13.5"
  }
 },
 "nbformat": 4,
 "nbformat_minor": 5
}
